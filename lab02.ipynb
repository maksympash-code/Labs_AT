{
 "cells": [
  {
   "cell_type": "markdown",
   "id": "c1b9613b-2bdf-433e-90eb-947b165c5a72",
   "metadata": {},
   "source": [
    "# Лабораторна робота 2. Бінарні дії\n",
    "\n",
    "__Примітка:__ наведений код є лише одним з можливих шаблонів виконання. Можете писати по-своєму, але розділяйте свій код на функції, щоб їх можна було простіше перевіряти. \n",
    "\n",
    "## Завдання 1.\n",
    "\n",
    "__Визначити усіма можливими способами бінарну дію на множині з n=2,3 елементів. Побудувати таблицю Келі для кожної з цих дій.__\n",
    "\n",
    "_Підказка_: використайте класи FiniteSetMaps та OperationTable, як показано в [прикладах](../notebooks/02-binary_actions.ipynb). "
   ]
  },
  {
   "cell_type": "code",
   "execution_count": 2,
   "id": "6f31f202-7995-4a06-8200-86d856441f8b",
   "metadata": {},
   "outputs": [],
   "source": [
    "from sage.sets.finite_set_maps import FiniteSetMaps\n",
    "from sage.matrix.operation_table import OperationTable\n",
    "from itertools import product\n",
    "\n",
    "def all_actions(space):\n",
    "    pairs = list(product(space, repeat=2))  # Створюємо всі можливі пари\n",
    "    actions = list(FiniteSetMaps(pairs, space))  # Створюємо всі можливі відображення\n",
    "    return actions\n",
    "\n",
    "def create_operation(f, space):\n",
    "    def operation(x, y):\n",
    "        return f((x, y))\n",
    "    return operation\n",
    "\n",
    "needed_set = [1, 2, 3]  # Можна змінити на [1, 2]\n",
    "\n",
    "with open(\"operation_tables.txt\", \"w\") as file:\n",
    "    for f in all_actions(needed_set):\n",
    "        operation = create_operation(f, needed_set)\n",
    "        file.write(f\"Бінарна операція: {f}\\n\")\n",
    "        table = OperationTable(needed_set, operation)\n",
    "        file.write(str(table) + \"\\n\")"
   ]
  },
  {
   "cell_type": "markdown",
   "id": "c5354f64-79db-41b1-8307-82cc2e7a56a5",
   "metadata": {},
   "source": [
    "## Завдання 2. \n",
    "__Для кожної з визначених дій перевірити чи буде дія асоціативною. Якщо дія не асоціативна, то вивести трійку, для якої ця умова порушується.__"
   ]
  },
  {
   "cell_type": "code",
   "execution_count": 28,
   "id": "29ff592c-1ddf-4bc4-a4d5-7b4d14fecb61",
   "metadata": {},
   "outputs": [
    {
     "name": "stdout",
     "output_type": "stream",
     "text": [
      "Дія не асоціативна, контрприклад: (2, 1, 2)\n",
      "Дія не асоціативна, контрприклад: (2, 1, 2)\n",
      "Дія не асоціативна, контрприклад: (1, 1, 2)\n",
      "Дія не асоціативна, контрприклад: (1, 1, 1)\n",
      "Дія не асоціативна, контрприклад: (1, 1, 1)\n",
      "Дія не асоціативна, контрприклад: (1, 1, 1)\n",
      "Дія не асоціативна, контрприклад: (1, 1, 1)\n",
      "Дія не асоціативна, контрприклад: (1, 1, 2)\n",
      "К-ть асоціативних дій для 2-елементної множини: 8\n"
     ]
    }
   ],
   "source": [
    "def is_associative(space, action):\n",
    "    for a in space:\n",
    "        for b in space:\n",
    "            for c in space:\n",
    "                if action((action((a, b)), c)) != action((a, action((b, c)))):\n",
    "                    return False, (a, b, c)\n",
    "    return True, None\n",
    "\n",
    "\n",
    "needed_set = [1, 2, 3]  # Можна змінити на [1, 2]\n",
    "\n",
    "associative_actions = []\n",
    "\n",
    "for f in all_actions(needed_set):\n",
    "    result, counter = is_associative(needed_set, f)\n",
    "    if not result:\n",
    "        print(\"Дія не асоціативна, контрприклад:\", counter)\n",
    "    else:\n",
    "        associative_actions.append(f)\n",
    "\n",
    "print(f'К-ть асоціативних дій для {len(needed_set)}-елементної множини:', len(associative_actions))"
   ]
  },
  {
   "cell_type": "markdown",
   "id": "ab7093b0-a376-4ade-bdda-06612fad28ec",
   "metadata": {},
   "source": [
    "## Завдання 3. \n",
    "\n",
    "__Перевірити, які з визначених множин з асоціативними бінарними діями будуть ізоморфними між собою і знайти кількість класів попарно ізоморфних між собою множин.__"
   ]
  },
  {
   "cell_type": "code",
   "execution_count": 31,
   "id": "61c4c69b-b6f4-4411-96d7-e6783f0a24d8",
   "metadata": {},
   "outputs": [
    {
     "name": "stdout",
     "output_type": "stream",
     "text": [
      "К-ть класів ізоморфності: 5\n",
      "К-ть дій в кожному класі:\n",
      "Клас ізоморфності містить 2 операцій\n",
      "Клас ізоморфності містить 2 операцій\n",
      "Клас ізоморфності містить 1 операцій\n",
      "Клас ізоморфності містить 1 операцій\n",
      "Клас ізоморфності містить 2 операцій\n"
     ]
    }
   ],
   "source": [
    "from itertools import permutations\n",
    "\n",
    "def is_isomorphic(space1, action1, space2, action2):\n",
    "    for perm in permutations(space1):\n",
    "        bijection = dict(zip(space1, perm))\n",
    "        for a in space1:\n",
    "            for b in space1:\n",
    "                if bijection[action1((a, b))] != action2((bijection[a], bijection[b])):\n",
    "                    break\n",
    "            else:\n",
    "                continue\n",
    "            break\n",
    "        else:\n",
    "            return True\n",
    "    return False\n",
    "\n",
    "isomorph_classes = []\n",
    "\n",
    "for f1 in associative_actions:\n",
    "    for iso_class in isomorph_classes:\n",
    "        f2 = iso_class[0]\n",
    "        if is_isomorphic(needed_set, f1, needed_set, f2):\n",
    "            iso_class[1] += 1\n",
    "            break\n",
    "    else:\n",
    "        isomorph_classes.append([f1, 1])\n",
    "\n",
    "print('К-ть класів ізоморфності:', len(isomorph_classes))\n",
    "print('К-ть дій в кожному класі:')\n",
    "for iso_class in isomorph_classes:\n",
    "    print(f'Клас ізоморфності містить {iso_class[1]} операцій')\n"
   ]
  }
 ],
 "metadata": {
  "kernelspec": {
   "display_name": "SageMath 9.5",
   "language": "sage",
   "name": "sagemath"
  },
  "language_info": {
   "codemirror_mode": {
    "name": "ipython",
    "version": 3
   },
   "file_extension": ".py",
   "mimetype": "text/x-python",
   "name": "python",
   "nbconvert_exporter": "python",
   "pygments_lexer": "ipython3",
   "version": "3.10.12"
  }
 },
 "nbformat": 4,
 "nbformat_minor": 5
}
